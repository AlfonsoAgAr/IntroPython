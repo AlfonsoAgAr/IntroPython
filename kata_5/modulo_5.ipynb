{
 "cells": [
  {
   "cell_type": "markdown",
   "metadata": {},
   "source": [
    "# Ejercicio1 - Utilizar operadores aritméticos\n"
   ]
  },
  {
   "cell_type": "code",
   "execution_count": 1,
   "metadata": {},
   "outputs": [],
   "source": [
    "tierra = 149597870\n",
    "jupiter = 778547200"
   ]
  },
  {
   "cell_type": "code",
   "execution_count": 7,
   "metadata": {},
   "outputs": [
    {
     "name": "stdout",
     "output_type": "stream",
     "text": [
      "628949330 390577533.93\n"
     ]
    }
   ],
   "source": [
    "dist = jupiter - tierra\n",
    "dist_millas = dist * 0.621\n",
    "print(dist, dist_millas)"
   ]
  },
  {
   "cell_type": "markdown",
   "metadata": {},
   "source": [
    "# Ejercicio 2: convierte cadenas en números y usa valores absolutos\n"
   ]
  },
  {
   "cell_type": "code",
   "execution_count": 14,
   "metadata": {},
   "outputs": [
    {
     "name": "stdout",
     "output_type": "stream",
     "text": [
      "Bienvenido a la calculadora de distancias entre planeta, introduce los siguientes datos.\n"
     ]
    }
   ],
   "source": [
    "print('Bienvenido a la calculadora de distancias entre planeta, introduce los siguientes datos.')\n",
    "\n",
    "data_1 = int(input('Distancia entre el sol y el planeta 1: '))\n",
    "data_2 = int(input('Distancia entre el sol y el planeta 2: '))"
   ]
  },
  {
   "cell_type": "code",
   "execution_count": 16,
   "metadata": {},
   "outputs": [
    {
     "name": "stdout",
     "output_type": "stream",
     "text": [
      "Resultado en KM:  41400000 Resultado en Mi:  25709400.0\n"
     ]
    }
   ],
   "source": [
    "resultado = abs(data_1 - data_2)\n",
    "\n",
    "print('Resultado en KM: ', resultado, 'Resultado en Mi: ', resultado*0.621)"
   ]
  }
 ],
 "metadata": {
  "interpreter": {
   "hash": "720d8a0f80bd63b97b978b665f2f98753743344a81d303ace48c4baeafa48ce8"
  },
  "kernelspec": {
   "display_name": "Python 3.10.2 64-bit",
   "language": "python",
   "name": "python3"
  },
  "language_info": {
   "codemirror_mode": {
    "name": "ipython",
    "version": 3
   },
   "file_extension": ".py",
   "mimetype": "text/x-python",
   "name": "python",
   "nbconvert_exporter": "python",
   "pygments_lexer": "ipython3",
   "version": "3.10.2"
  },
  "orig_nbformat": 4
 },
 "nbformat": 4,
 "nbformat_minor": 2
}
