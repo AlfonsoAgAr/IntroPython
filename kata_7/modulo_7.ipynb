{
 "cells": [
  {
   "cell_type": "markdown",
   "metadata": {},
   "source": [
    "# Ejercicio 1: Creación de un bucle \"while\"\n"
   ]
  },
  {
   "cell_type": "code",
   "execution_count": 9,
   "metadata": {},
   "outputs": [],
   "source": [
    "new_planet = ''\n",
    "planets = []"
   ]
  },
  {
   "cell_type": "code",
   "execution_count": 11,
   "metadata": {},
   "outputs": [],
   "source": [
    "while new_planet != 'done':\n",
    "    if isinstance(new_planet, str):\n",
    "        planets.append(new_planet)\n",
    "    else:\n",
    "        print('That is not a planet')\n",
    "    \n",
    "    new_planet = input('Type a new planet: ')"
   ]
  },
  {
   "cell_type": "markdown",
   "metadata": {},
   "source": [
    "# Ejercicio 2: Creación de un ciclo \"for\"\n"
   ]
  },
  {
   "cell_type": "code",
   "execution_count": 12,
   "metadata": {},
   "outputs": [
    {
     "name": "stdout",
     "output_type": "stream",
     "text": [
      "\n",
      "Mercury\n",
      "Pluton\n",
      "Mars\n",
      "Jupiter\n"
     ]
    }
   ],
   "source": [
    "for element in planets:\n",
    "    print(element)"
   ]
  }
 ],
 "metadata": {
  "interpreter": {
   "hash": "720d8a0f80bd63b97b978b665f2f98753743344a81d303ace48c4baeafa48ce8"
  },
  "kernelspec": {
   "display_name": "Python 3.10.2 64-bit",
   "language": "python",
   "name": "python3"
  },
  "language_info": {
   "codemirror_mode": {
    "name": "ipython",
    "version": 3
   },
   "file_extension": ".py",
   "mimetype": "text/x-python",
   "name": "python",
   "nbconvert_exporter": "python",
   "pygments_lexer": "ipython3",
   "version": "3.10.2"
  },
  "orig_nbformat": 4
 },
 "nbformat": 4,
 "nbformat_minor": 2
}
