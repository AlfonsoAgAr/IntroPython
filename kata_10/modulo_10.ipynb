{
 "cells": [
  {
   "cell_type": "markdown",
   "metadata": {},
   "source": [
    "Se crea el archivo open.py, que intenta abrir un archivo de imagen:\n",
    "\n",
    "```\n",
    "PS C:\\Users\\J_arg\\Code\\microsoft-onboarding\\week-1\\kata_10> python .\\open.py\n",
    "Traceback (most recent call last):\n",
    "  File \"C:\\Users\\J_arg\\Code\\microsoft-onboarding\\week-1\\kata_10\\open.py\", line 5, in <module>\n",
    "    main()\n",
    "  File \"C:\\Users\\J_arg\\Code\\microsoft-onboarding\\week-1\\kata_10\\open.py\", line 2, in main\n",
    "    open(\"/path/to/mars.jpg\")\n",
    "FileNotFoundError: [Errno 2] No such file or directory: '/path/to/mars.jpg'\n",
    "PS C:\\Users\\J_arg\\Code\\microsoft-onboarding\\week-1\\kata_10>\n",
    "```\n"
   ]
  },
  {
   "cell_type": "markdown",
   "metadata": {},
   "source": [
    "Se crea el archivo config.py y agregamos código que tenga la posibilidad de producir una excepción. A continuación, agregamos la palabra clave except junto con la posible excepción, seguida de cualquier código que deba ejecutarse cuando se produce esa condición. Puesto que config.txt no existe en el sistema, Python imprime que el archivo de configuración no está ahí. El bloque try y except, junto con un mensaje útil, evita un seguimiento y sigue informando al usuario sobre el problema."
   ]
  },
  {
   "cell_type": "markdown",
   "metadata": {},
   "source": [
    "```\n",
    "Traceback (most recent call last):\n",
    "  File \"/tmp/config.py\", line 9, in <module>\n",
    "    main()\n",
    "  File \"/tmp/config.py\", line 3, in main\n",
    "    configuration = open('config.txt')\n",
    "IsADirectoryError: [Errno 21] Is a directory: 'config.txt'\n",
    "```"
   ]
  },
  {
   "cell_type": "markdown",
   "metadata": {},
   "source": [
    "Una manera poco útil de controlar este error sería detectar todas las excepciones posibles para evitar un traceback. Para comprender por qué detectar todas las excepciones es problemático, probaremos actualizando la función main():"
   ]
  },
  {
   "cell_type": "markdown",
   "metadata": {},
   "source": [
    "```\n",
    "Couldn't find the config.txt file!\n",
    "```"
   ]
  },
  {
   "cell_type": "markdown",
   "metadata": {},
   "source": [
    "Modificamos parte del codigo"
   ]
  },
  {
   "cell_type": "markdown",
   "metadata": {},
   "source": [
    "```\n",
    "def main():\n",
    "    try:\n",
    "        configuration = open('config.txt')\n",
    "    except FileNotFoundError:\n",
    "        print(\"Couldn't find the config.txt file!\")\n",
    "    except IsADirectoryError:\n",
    "        print(\"Found config.txt but it is a directory, couldn't read it\")\n",
    "```"
   ]
  },
  {
   "cell_type": "markdown",
   "metadata": {},
   "source": [
    "Nos arroja lo siguiente:\n",
    "```\n",
    "Found config.txt but couldn't read it\n",
    "```"
   ]
  },
  {
   "cell_type": "markdown",
   "metadata": {},
   "source": [
    "Elimino el directorio de config.txt"
   ]
  },
  {
   "cell_type": "markdown",
   "metadata": {},
   "source": [
    "```\n",
    "Couldn't find the config.txt file!\n",
    "```"
   ]
  },
  {
   "cell_type": "markdown",
   "metadata": {},
   "source": [
    "Es posible que ya conozcas una situación que podría provocar una condición de error al escribir código. En estas situaciones, resulta útil generar excepciones que permitan que otro código comprenda cuál es el problema.\n",
    "\n",
    "La generación de excepciones también puede ayudar en la toma de decisiones para otro código. Como hemos visto antes, en función del error, el código puede tomar decisiones inteligentes para resolver, solucionar o ignorar un problema.\n",
    "\n",
    "Los astronautas limitan su uso de agua a unos 11 litros al día. Vamos a crear una función que, con base al número de astronautas, pueda calcular la cantidad de agua quedará después de un día o más:"
   ]
  },
  {
   "cell_type": "markdown",
   "metadata": {},
   "source": [
    "```\n",
    "'Total water left after 2 days is: -10 liters'\n",
    "```"
   ]
  },
  {
   "cell_type": "markdown",
   "metadata": {},
   "source": [
    "Despues de modificar el codigo"
   ]
  },
  {
   "cell_type": "markdown",
   "metadata": {},
   "source": [
    "```\n",
    "Traceback (most recent call last):\n",
    "  File \"C:\\Users\\J_arg\\Code\\microsoft-onboarding\\week-1\\kata_10\\astro.py\", line 10, in <module>\n",
    "    print(water_left(5, 100, 2))\n",
    "  File \"C:\\Users\\J_arg\\Code\\microsoft-onboarding\\week-1\\kata_10\\astro.py\", line 6, in water_left\n",
    "    raise RuntimeError(f\"There is not enough water for {astronauts} astronauts after {days_left} days!\")\n",
    "RuntimeError: There is not enough water for 5 astronauts after 2 days!\n",
    "```"
   ]
  },
  {
   "cell_type": "markdown",
   "metadata": {},
   "source": [
    "Finalmete hacemos la ultima modificacion y probamos"
   ]
  },
  {
   "cell_type": "markdown",
   "metadata": {},
   "source": [
    "```\n",
    "Traceback (most recent call last):\n",
    "  File \"C:\\Users\\J_arg\\Code\\microsoft-onboarding\\week-1\\kata_10\\astro.py\", line 5, in water_left\n",
    "    argument / 10\n",
    "TypeError: unsupported operand type(s) for /: 'str' and 'int'\n",
    "\n",
    "During handling of the above exception, another exception occurred:\n",
    "\n",
    "Traceback (most recent call last):\n",
    "  File \"C:\\Users\\J_arg\\Code\\microsoft-onboarding\\week-1\\kata_10\\astro.py\", line 18, in <module>\n",
    "    print(water_left(\"3\", \"200\", None))\n",
    "  File \"C:\\Users\\J_arg\\Code\\microsoft-onboarding\\week-1\\kata_10\\astro.py\", line 9, in water_left\n",
    "    raise TypeError(f\"All arguments must be of type int, but received: '{argument}'\")\n",
    "TypeError: All arguments must be of type int, but received: '3'\n",
    "```"
   ]
  }
 ],
 "metadata": {
  "interpreter": {
   "hash": "720d8a0f80bd63b97b978b665f2f98753743344a81d303ace48c4baeafa48ce8"
  },
  "kernelspec": {
   "display_name": "Python 3.10.2 64-bit",
   "language": "python",
   "name": "python3"
  },
  "language_info": {
   "codemirror_mode": {
    "name": "ipython",
    "version": 3
   },
   "file_extension": ".py",
   "mimetype": "text/x-python",
   "name": "python",
   "nbconvert_exporter": "python",
   "pygments_lexer": "ipython3",
   "version": "3.10.2"
  },
  "orig_nbformat": 4
 },
 "nbformat": 4,
 "nbformat_minor": 2
}
