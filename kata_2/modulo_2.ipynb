{
 "cells": [
  {
   "cell_type": "markdown",
   "metadata": {},
   "source": [
    "# Activar entorno\n",
    "\n",
    "Primero se crea el entorno virtual con el siguiente comando: \n",
    "```\n",
    "python -m venv {nombre_directorio}\n",
    "```\n",
    "\n",
    "Después ejecutamos el entorno:\n",
    "```\n",
    "source env/bin/activate\n",
    "```\n",
    "\n",
    "En mi caso, desde powershell requiero permisos especiales, entonces ejecuto lo siguiente:\n",
    "```\n",
    "Set-ExecutionPolicy Unrestricted -Scope Process ; .\\kata_2\\Scripts\\activate\n",
    "```\n",
    "\n",
    "Verifico que mi entorno esté limpio:\n",
    "```\n",
    "pip freeze\n",
    "```\n",
    "\n",
    "Instalo una librería:\n",
    "```\n",
    "pip install python-dateutil\n",
    "```\n",
    "\n",
    "Y finalmente desactivo el entorno virtual:\n",
    "```\n",
    "deactivate\n",
    "```"
   ]
  },
  {
   "cell_type": "markdown",
   "metadata": {},
   "source": [
    "## Salida de consola\n",
    "\n",
    "```\n",
    "PS C:\\Users\\J_arg\\Code\\microsoft-onboarding\\week-1\\kata_2> Set-ExecutionPolicy Unrestricted -Scope Process ; .\\kata_2\\Scripts\\activate\n",
    "(kata_2) PS C:\\Users\\J_arg\\Code\\microsoft-onboarding\\week-1\\kata_2> pip list\n",
    "Package    Version\n",
    "---------- -------\n",
    "pip        21.2.4\n",
    "setuptools 58.1.0\n",
    "WARNING: You are using pip version 21.2.4; however, version 22.0.3 is available.\n",
    "You should consider upgrading via the 'C:\\Users\\J_arg\\Code\\microsoft-onboarding\\week-1\\kata_2\\kata_2\\Scripts\\python.exe -m pip install --upgrade pip' command.\n",
    "(kata_2) PS C:\\Users\\J_arg\\Code\\microsoft-onboarding\\week-1\\kata_2> pip freeze\n",
    "(kata_2) PS C:\\Users\\J_arg\\Code\\microsoft-onboarding\\week-1\\kata_2> pip install python-dateutil\n",
    "Collecting python-dateutil\n",
    "  Using cached python_dateutil-2.8.2-py2.py3-none-any.whl (247 kB)\n",
    "Collecting six>=1.5\n",
    "  Using cached six-1.16.0-py2.py3-none-any.whl (11 kB)\n",
    "Installing collected packages: six, python-dateutil\n",
    "Successfully installed python-dateutil-2.8.2 six-1.16.0\n",
    "WARNING: You are using pip version 21.2.4; however, version 22.0.3 is available.\n",
    "You should consider upgrading via the 'C:\\Users\\J_arg\\Code\\microsoft-onboarding\\week-1\\kata_2\\kata_2\\Scripts\\python.exe -m pip install --upgrade pip' command.\n",
    "(kata_2) PS C:\\Users\\J_arg\\Code\\microsoft-onboarding\\week-1\\kata_2> pip freeze\n",
    "python-dateutil==2.8.2\n",
    "six==1.16.0\n",
    "(kata_2) PS C:\\Users\\J_arg\\Code\\microsoft-onboarding\\week-1\\kata_2> deactivate\n",
    "PS C:\\Users\\J_arg\\Code\\microsoft-onboarding\\week-1\\kata_2>\n",
    "PS C:\\Users\\J_arg\\Code\\microsoft-onboarding\\week-1\\kata_2>\n",
    "PS C:\\Users\\J_arg\\Code\\microsoft-onboarding\\week-1\\kata_2>\n",
    "PS C:\\Users\\J_arg\\Code\\microsoft-onboarding\\week-1\\kata_2>\n",
    "PS C:\\Users\\J_arg\\Code\\microsoft-onboarding\\week-1\\kata_2>\n",
    "```"
   ]
  }
 ],
 "metadata": {
  "language_info": {
   "name": "python"
  },
  "orig_nbformat": 4
 },
 "nbformat": 4,
 "nbformat_minor": 2
}
